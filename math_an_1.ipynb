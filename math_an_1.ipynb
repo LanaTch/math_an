{
 "cells": [
  {
   "cell_type": "markdown",
   "metadata": {},
   "source": [
    "### Задание 1.\n",
    "\n",
    "Как относятся друг к другу множество и\n",
    "последовательность? (в ответе использовать\n",
    "слова типа: часть, целое, общее, частное,\n",
    "родитель, дочерний субъект и т.д.)"
   ]
  },
  {
   "cell_type": "markdown",
   "metadata": {},
   "source": [
    "последовательность - это такой набор элементов (часть) множетсва, что для каждого его элемента можно назвать номер, предыдущий и следующий эемент. То есть последовательность - это результат последовательного выбора элементов из некоторого заданного множества."
   ]
  },
  {
   "cell_type": "markdown",
   "metadata": {},
   "source": [
    "### Задание 2\n",
    "Прочитать высказывания\n",
    "математической логики,\n",
    "построить их отрицания и\n",
    "*установить истинность."
   ]
  },
  {
   "cell_type": "markdown",
   "metadata": {},
   "source": [
    "$ \\forall y \\in [0;1]:sng(y)=1 $ для любого y, принадлежащего отрезку от 0 до 1, сигнум от y равен 1. _истина_\n",
    "\n",
    "_отрицание_: $ \\exists y \\in [0;1]:sng(y)\\neq 1 $ "
   ]
  },
  {
   "cell_type": "markdown",
   "metadata": {},
   "source": [
    "$ \\forall n \\in \\mathbb{N} >2:\\exists x,y,z \\in \\mathbb{N}: x^n=y^n+z^n$ для любого натурального n строго больше 2 существуют такие натуральные $ x,y,z $, для которых выполняется равенство $ x^n=y^n+z^n $ _истина_\n",
    "\n",
    "_отрицание_: $ \\exists n \\in \\mathbb{N} \\leqslant 2:\\forall x,y,z \\in \\mathbb{N}: x^n\\neq y^n+z^n $\n"
   ]
  },
  {
   "cell_type": "markdown",
   "metadata": {},
   "source": [
    "$ \\forall x \\in \\mathbb{R} \\exists X \\in \\mathbb{R}:X>x $ для любых рациональных $x$ существует такое рациональное $X$, что $X$ строго больше $x$ _истина_\n",
    "\n",
    "_отрицание_: $\\exists x \\in \\mathbb{R} \\forall X \\in \\mathbb{R}:X\\leqslant x$"
   ]
  },
  {
   "cell_type": "markdown",
   "metadata": {},
   "source": [
    "$\\forall x \\in \\mathbb{C} \\nexists y \\in \\mathbb{C}:x>y \\| x<y$ для любого комплексного $x$ не существует такое комплексное $y$ чтобы выполнялось неравенство $x<y$ или $y>x$ _истина_\n",
    "\n",
    "_отрицание_: $\\exists x \\in \\mathbb{C} \\exists y \\in \\mathbb{C}:x\\leqslant y \\& x\\geqslant y $"
   ]
  },
  {
   "cell_type": "markdown",
   "metadata": {},
   "source": [
    "$\\forall y \\in [0; \\pi / 2] \\exists \\varepsilon > 0 : \\sin y < \\sin(y + \\varepsilon)$ для любого $y$, принадлежащего отрезку $[0; \\pi / 2]$, существует такое строго положительное $\\varepsilon$, для которого верно неравенство $\\sin y < \\sin(y + \\varepsilon)$ _ложь_\n",
    "\n",
    "_отрицание_: $\\exists y \\in [0; \\pi / 2] \\forall \\varepsilon \\leqslant 0 : \\sin y \\geqslant \\sin(y + \\varepsilon)$"
   ]
  },
  {
   "cell_type": "markdown",
   "metadata": {},
   "source": [
    "$\\forall y \\in [0; \\pi) \\exists \\varepsilon > 0 : \\cos y > \\cos(y + \\varepsilon)$ для любого $y$, принадлежащего интервалу от 0 включительно до $\\pi$ не включительно, существует строго положительное $\\varepsilon$, при котором верно неравенство $\\cos y > \\cos(y + \\varepsilon)$ _истина_\n",
    "\n",
    "_отрицание_: $\\exists y \\in [0; \\pi) \\forall \\varepsilon \\leqslant 0 : \\cos y \\geqslant \\cos(y + \\varepsilon)$\n",
    "\n"
   ]
  },
  {
   "cell_type": "markdown",
   "metadata": {},
   "source": [
    "$\\exists x: x \\notin \\{\\mathbb{N,Z,Q,R,C}\\} $ существуют такие $x$, которые не принадлежат множествам натуральный, целых, рациональных, действительных и иррациональных чисел. _ложь_\n",
    "\n",
    "_отрицание_: $\\forall x: x \\in \\{\\mathbb{N,Z,Q,R,C}\\}$"
   ]
  },
  {
   "cell_type": "markdown",
   "metadata": {},
   "source": [
    "### Задание 3\n",
    "1. Даны три множества a,b и с. Необходимо выполнить все изученные виды\n",
    "бинарных операций над всеми комбинациями множеств.\n",
    "2. *Выполнить задание 1 на языке Python"
   ]
  },
  {
   "cell_type": "code",
   "execution_count": 24,
   "metadata": {},
   "outputs": [],
   "source": [
    "import numpy as np\n",
    "a = np.array([1,2,3])\n",
    "b = np.array([2,2,2])\n",
    "c = np.array([3,3,3])"
   ]
  },
  {
   "cell_type": "code",
   "execution_count": 23,
   "metadata": {},
   "outputs": [
    {
     "name": "stdout",
     "output_type": "stream",
     "text": [
      "пересечение a & b = [0 2 2]\n",
      "объединение a | b = [3 2 3]\n",
      "разность a - b = [-1  0  1]\n",
      "симметрическая разность a ^ b = [3 0 1]\n",
      "декартого произведение a x b= [[1, 2], [1, 2], [1, 2], [2, 2], [2, 2], [2, 2], [3, 2], [3, 2], [3, 2]]\n"
     ]
    }
   ],
   "source": [
    "print(f'пересечение a & b = {a&b}')\n",
    "print(f'объединение a | b = {a|b}')\n",
    "print(f'разность a - b = {a-b}')\n",
    "print(f'симметрическая разность a ^ b = {a^b}')\n",
    "print(f'декартого произведение a x b= {[[a0, b0] for a0 in a for b0 in b]}')"
   ]
  },
  {
   "cell_type": "markdown",
   "metadata": {},
   "source": [
    "выполнить все комбинации бинарных операций для 3 списков - это как-то слишко много и долго. поэтому сделаю некоторые комбинации операций для a, b, с, без изменениях их порядка следования:"
   ]
  },
  {
   "cell_type": "code",
   "execution_count": 27,
   "metadata": {},
   "outputs": [
    {
     "name": "stdout",
     "output_type": "stream",
     "text": [
      "[0 2 2]\n",
      "[3 3 3]\n",
      "[1 2 3]\n",
      "[3 1 1]\n",
      "[3 2 3]\n",
      "[3 3 3]\n",
      "[-1 -1 -1]\n",
      "[1 3 3]\n",
      "[3 0 1]\n",
      "[-1  3  3]\n",
      "[-4  3  2]\n",
      "[-4 -3 -2]\n",
      "[3 0 1]\n",
      "[3 3 3]\n",
      "[0 3 2]\n",
      "[-2 -3 -4]\n"
     ]
    }
   ],
   "source": [
    "print(f'{a&b&c}')\n",
    "print(f'{a&b|c}')\n",
    "print(f'{a&b-c}')\n",
    "print(f'{a&b^c}')\n",
    "\n",
    "print(f'{a|b&c}')\n",
    "print(f'{a|b|c}')\n",
    "print(f'{a|b-c}')\n",
    "print(f'{a|b^c}')\n",
    "\n",
    "print(f'{a-b&c}')\n",
    "print(f'{a-b|c}')\n",
    "print(f'{a-b^c}')\n",
    "print(f'{a-b-c}')\n",
    "\n",
    "print(f'{a^b&c}')\n",
    "print(f'{a^b|c}')\n",
    "print(f'{a^b^c}')\n",
    "print(f'{a^b-c}')"
   ]
  },
  {
   "cell_type": "markdown",
   "metadata": {},
   "source": [
    "### Задание 4\n",
    "Даны 4 последовательности.\n",
    "Необходимо:\n",
    "1) исследовать их на\n",
    "монотонность;\n",
    "2) исследовать на\n",
    "ограниченность;\n",
    "3) найти пятый по счету член."
   ]
  },
  {
   "cell_type": "markdown",
   "metadata": {},
   "source": [
    "$\\{a_n\\}_{n=1}^\\infty = 2^n-n$\n",
    "\n",
    "1) последовательность монотонная, если знак разности между предыдущем и текущем ее членом не меняется.\n",
    "$a_n - a_{n-1}=2^n-n-2^{n-1}-n+1=2^n-2^{n-1}-2\\cdot n +1$ - это функция положительна для всех $n>0$, значит исходная последовательность монотонна.\n",
    "\n",
    "2) последовательность ограничена сверху, если $\\exists M \\in \\mathbb{R}:\\forall n \\in \\mathbb{N}:a_n<M$. последовательность $\\{a_n\\}$ не ограничена сверху\n",
    "\n",
    "последовательность ограничена снизу, если $\\exists m \\in \\mathbb{R}:\\forall n \\in \\mathbb{N}:a_n>m$. последовательность $\\{a_n\\}$ограничена снизу, $m=1$\n",
    "\n",
    "3) $a_5 = 2^5-5=32-5=27$"
   ]
  },
  {
   "cell_type": "markdown",
   "metadata": {},
   "source": [
    "$\\{b_n\\}_{n=2}^\\infty=\\frac{1}{1-n}$\n",
    "\n",
    "1) последовательность монотонная, если знак разности между предыдущем и текущем ее членом не меняется.\n",
    "$b_n - b_{n-1}=\\frac{1}{1-n}-\\frac{1}{1-n+1}= $ - это функция положительна для всех $n>=2$, значит исходная последовательность монотонна.\n",
    "\n",
    "2) последовательность ограничена сверху, если $\\exists M \\in \\mathbb{R}:\\forall n \\in \\mathbb{N}:b_n<M$. последовательность $\\{b_n\\}$ не ограничена сверху\n",
    "\n",
    "последовательность ограничена снизу, если $\\exists m \\in \\mathbb{R}:\\forall n \\in \\mathbb{N}:b_n>m$. последовательность $\\{b_n\\}$ограничена снизу, $m=-1$\n",
    " \n",
    "\n",
    "3) $b_5 = \\frac{1}{1-5}=-\\frac{1}{4}$"
   ]
  },
  {
   "cell_type": "markdown",
   "metadata": {},
   "source": [
    "$\\{c_n\\}_{n=1}^\\infty=-1^n+\\sqrt{2n}$\n",
    "\n",
    "1) последовательность монотонная, если знак разности между предыдущем и текущем ее членом не меняется.\n",
    "$c_n - c_{n-1}=-1^n+\\sqrt{2n}+1^{n-1}-\\sqrt{2\\cdot(n-1)}$ - это функция положительна для всех $n>=1$, значит исходная последовательность монотонна.\n",
    "\n",
    "2) последовательность ограничена сверху, если $\\exists M \\in \\mathbb{R}:\\forall n \\in \\mathbb{N}:c_n<M$. последовательность $\\{c_n\\}$ не ограничена сверху\n",
    "\n",
    "последовательность ограничена снизу, если $\\exists m \\in \\mathbb{R}:\\forall n \\in \\mathbb{N}:c_n>m$. последовательность $\\{c_n\\}$ограничена снизу, $m=-1+\\sqrt{2}$\n",
    " \n",
    "\n",
    "3) $c_5 = -1^5+\\sqrt{2\\cdot5}=-1+\\sqrt{10}$"
   ]
  },
  {
   "cell_type": "markdown",
   "metadata": {},
   "source": [
    "$\\{d_n\\}_{n=1}^\\infty=(-1)^{2n}+\\frac{1}{n^2}$\n",
    "\n",
    "1) последовательность монотонная, если знак разности между предыдущем и текущем ее членом не меняется.\n",
    "$d_n - d_{n-1}=(-1)^{2n}+\\frac{1}{n^2}-(-1)^{2\\cdot(n-1)}+\\frac{1}{(n-1)^2}$ - это функция положительна для всех $n>=1$, значит исходная последовательность монотонна.\n",
    "\n",
    "2) последовательность ограничена сверху, если $\\exists M \\in \\mathbb{R}:\\forall n \\in \\mathbb{N}:d_n<M$. последовательность $\\{d_n\\}$ не ограничена сверху\n",
    "\n",
    "последовательность ограничена снизу, если $\\exists m \\in \\mathbb{R}:\\forall n \\in \\mathbb{N}:d_n>m$. последовательность $\\{d_n\\}$ограничена снизу, $m=2$\n",
    "\n",
    "\n",
    "3) $d_5 = (-1)^{2\\cdot5}+\\frac{1}{5^2}=1.04$"
   ]
  },
  {
   "cell_type": "markdown",
   "metadata": {},
   "source": [
    "### Задание 5\n",
    "найти 12-й член неявно заданной последовательности:\n",
    "$a_1 = 128, a_{n+1}-a_n=6$\n",
    "\n",
    "найдем общую формулу для $a_n$:\n",
    "\n",
    "$a_n=a_1+6\\cdot (n-1)$\n",
    "\n",
    "тогда $a_{12}=128+6\\cdot 11=62$"
   ]
  },
  {
   "cell_type": "code",
   "execution_count": null,
   "metadata": {},
   "outputs": [],
   "source": []
  },
  {
   "cell_type": "code",
   "execution_count": null,
   "metadata": {},
   "outputs": [],
   "source": []
  }
 ],
 "metadata": {
  "kernelspec": {
   "display_name": "Python 3",
   "language": "python",
   "name": "python3"
  },
  "language_info": {
   "codemirror_mode": {
    "name": "ipython",
    "version": 3
   },
   "file_extension": ".py",
   "mimetype": "text/x-python",
   "name": "python",
   "nbconvert_exporter": "python",
   "pygments_lexer": "ipython3",
   "version": "3.7.3"
  }
 },
 "nbformat": 4,
 "nbformat_minor": 2
}
